{
 "cells": [
  {
   "cell_type": "markdown",
   "metadata": {},
   "source": [
    "# 012. Seaborn Introduction\n",
    "\n",
    "### Seaborn 이 해결해 주는 2 가지 matplotlib 의 문제\n",
    "\n",
    "- Default Matplotlib parameters\n",
    "\n",
    "- dataframe 을 이용할 경우의 문제 (Matplotlib 은 pandas 에 최적화된 plot 제공 않음)\n",
    "\n",
    "### Seaborn 은 Matplotlib 의 대체품이 아니라 보완품이지만 다음의 중요한 feature 를 포함하고 있다.\n",
    "\n",
    "- 내장된 테마  \n",
    "\n",
    "- univariate 및 bivariate data 시각화  \n",
    "\n",
    "- linear regression model 의 fitting 및 시각화  \n",
    "\n",
    "- 통계적 시계열 data 의 plotting  \n",
    "\n",
    "- Numpy 및 Pandas DataFrame 과 잘 연동  \n",
    "\n",
    "- Matplotlib graphic 의 내장 theme 포함"
   ]
  },
  {
   "cell_type": "markdown",
   "metadata": {},
   "source": [
    "## Matplotlib 과 Seaborn 의 미적인 측면 비교 - 1"
   ]
  },
  {
   "cell_type": "markdown",
   "metadata": {},
   "source": [
    "### seaborn default 로 setting\n",
    "\n",
    "- `set()` : alias of `set_theme()`\n",
    "\n",
    "- 한 번에 여러 테마 매개 변수를 설정합니다."
   ]
  },
  {
   "cell_type": "markdown",
   "metadata": {},
   "source": [
    "### seaborn 의 style 테마 \n",
    "\n",
    "- Darkgrid : default  \n",
    "- Whitegrid \n",
    "- Dark  \n",
    "- White  \n",
    "- Ticks"
   ]
  },
  {
   "cell_type": "markdown",
   "metadata": {},
   "source": [
    "### axis 의 top, right spine 제거\n",
    "\n",
    "- despine : 플롯에서 상단 및 오른쪽 스파인 제거."
   ]
  },
  {
   "cell_type": "markdown",
   "metadata": {},
   "source": [
    "## Matplotlib 과 Seaborn 의 미적인 측면 비교 - 2\n",
    "\n",
    "* random walk data"
   ]
  },
  {
   "cell_type": "markdown",
   "metadata": {},
   "source": [
    "## Matplotlib 과 Seaborn 의 미적인 측면 비교 - 3\n",
    "\n",
    "- tips dataset 에서 요일별 평균 팁 금액을 남, 녀 고객 별 비교"
   ]
  },
  {
   "cell_type": "markdown",
   "metadata": {},
   "source": [
    "## matplotlib - bar chart\n",
    "\n",
    "- Hard Way"
   ]
  },
  {
   "cell_type": "markdown",
   "metadata": {},
   "source": [
    "- bar 의 사각형 범위를 조절하여 서로 겹치지 않도록 한다."
   ]
  },
  {
   "cell_type": "markdown",
   "metadata": {},
   "source": [
    "## Seaborn - barplot\n",
    "\n",
    "- Easy Way\n",
    "\n",
    "- 포인트 추정치 및 신뢰 구간을 직사각형 막대로 표시"
   ]
  },
  {
   "cell_type": "markdown",
   "metadata": {},
   "source": [
    "## 통계적 추론 (Statistical Estimation) 과 관련된 plot 들\n",
    "\n",
    "- 전체 data 의 분포에 대한 plotting \n",
    "\n",
    "- 중심경향 추론(central tendency estimation) 에 사용되는 mean 과 median 에 관련된 plot 들"
   ]
  },
  {
   "cell_type": "markdown",
   "metadata": {},
   "source": [
    "### boxplot - 범주와 관련된 분포를 표시하는 상자 그림"
   ]
  },
  {
   "cell_type": "markdown",
   "metadata": {},
   "source": [
    "### Violine Plot\n",
    "\n",
    "- box plot + kde (kernel density estimation) 을 하여 data 의 분포를 쉽게 파악할 수 있도록 한다.\n",
    "\n",
    "- box plot 의 사분위수와 whisker 가 violin 내에 표시된다.  \n",
    "\n",
    "- violin plot 이 kde 를 이용하므로 넓은 부분이 high density 이고, 좁은 부분이 low density 이다.  \n",
    "\n",
    "- Box plot 의 사분위간 범위(Inter-Quartile range) 와 kde 의 higher density 부분이 같은 영역으로 일치한다."
   ]
  },
  {
   "cell_type": "markdown",
   "metadata": {},
   "source": [
    "## 변수 한개 (Univariate) 의 분포를 그리는 기능"
   ]
  },
  {
   "cell_type": "markdown",
   "metadata": {},
   "source": [
    "### Histogram"
   ]
  },
  {
   "cell_type": "markdown",
   "metadata": {},
   "source": [
    "커널 밀도 추정 (KDE) 플롯은 히스토그램에 대한 분석인 데이터세트의 관측 값 분포를 시각화. KDE는 하나 이상의 차원에서 연속 확률 밀도 곡선을 사용하여 데이터를 나타냅니다."
   ]
  },
  {
   "cell_type": "markdown",
   "metadata": {},
   "source": [
    "## 변수두개(bivariate) 분포를 그리는 기능\n",
    "\n",
    "### Histogram using Matplotlib\n",
    "\n",
    "- multivariate_normal(mean, cov, size)  "
   ]
  },
  {
   "cell_type": "markdown",
   "metadata": {},
   "source": [
    "### kde plot using seaborn"
   ]
  },
  {
   "cell_type": "markdown",
   "metadata": {},
   "source": [
    "### jointplot()"
   ]
  },
  {
   "cell_type": "markdown",
   "metadata": {},
   "source": [
    "### Joint Scatter Plot\n",
    "\n",
    "-  `scatterplot` + `marginal histograms`  \n",
    "\n",
    "\n",
    "- `kind{ “scatter” | “kde” | “hist” | “hex” | “reg” | “resid” }`"
   ]
  },
  {
   "cell_type": "markdown",
   "metadata": {},
   "source": [
    "### Hexbin Plot\n",
    "\n",
    "- Hexaginal binning 은 data 밀도가 sparse 한 경우의 bivariate data 분석에 사용  \n",
    "    ==> data 가 너무 퍼져있어서 scatter plot 으로 분석하기 어려운 경우 사용"
   ]
  },
  {
   "cell_type": "markdown",
   "metadata": {},
   "source": [
    "### Kernel Density Eestimation\n",
    "\n",
    "- variable 의 분포를 보는 방법"
   ]
  },
  {
   "cell_type": "markdown",
   "metadata": {},
   "source": [
    "### Pairwise Relationship\n",
    "\n",
    "- 다변량 분석의 경우 각각의 변수를 짝지워 Bivariate Distribution 표시 - (n, 2) combination  \n",
    "\n",
    "- sns.pairplot()\n",
    "\n",
    "- hue : 색깔 구분을 할 변수  \n",
    "\n",
    "- diag_kind : 대각선에 배치할 subplots (hist or kde)"
   ]
  },
  {
   "cell_type": "markdown",
   "metadata": {},
   "source": [
    "## Categorical Data plotting \n",
    "\n",
    "- 지금까지 위에서 그린 것은 연속된 값을 plot 한 것이므로, categorical variable 에는 적합하지 않음  "
   ]
  },
  {
   "cell_type": "markdown",
   "metadata": {},
   "source": [
    "### stripplot : 하나의 변수가 범주형인 산점도"
   ]
  },
  {
   "cell_type": "code",
   "execution_count": null,
   "metadata": {},
   "outputs": [],
   "source": []
  }
 ],
 "metadata": {
  "kernelspec": {
   "display_name": "Python 3",
   "language": "python",
   "name": "python3"
  },
  "language_info": {
   "codemirror_mode": {
    "name": "ipython",
    "version": 3
   },
   "file_extension": ".py",
   "mimetype": "text/x-python",
   "name": "python",
   "nbconvert_exporter": "python",
   "pygments_lexer": "ipython3",
   "version": "3.7.10"
  }
 },
 "nbformat": 4,
 "nbformat_minor": 2
}
