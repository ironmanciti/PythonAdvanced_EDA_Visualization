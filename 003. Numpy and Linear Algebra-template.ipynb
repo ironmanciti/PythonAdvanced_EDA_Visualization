{
 "cells": [
  {
   "cell_type": "markdown",
   "metadata": {},
   "source": [
    "# 003. Numpy and Linear Algebra (선형대수)\n",
    "\n",
    "- 수치 data 를 다루는데 효율적이고 높은 성능 제공\n",
    "\n",
    "- 각종 수학적 함수 제공\n",
    "\n",
    "- Python scientific library 들이 Numpy 기반으로 구축\n",
    "\n",
    "## ndarray\n",
    "\n",
    "- n-dimensional array (다차원 배열 객체) 로 구성 "
   ]
  },
  {
   "cell_type": "code",
   "execution_count": 1,
   "metadata": {
    "slideshow": {
     "slide_type": "subslide"
    }
   },
   "outputs": [],
   "source": [
    "# 스칼라"
   ]
  },
  {
   "cell_type": "code",
   "execution_count": 2,
   "metadata": {
    "slideshow": {
     "slide_type": "fragment"
    }
   },
   "outputs": [],
   "source": [
    "# 벡터"
   ]
  },
  {
   "cell_type": "markdown",
   "metadata": {},
   "source": [
    "## np.arange()\n",
    "- range() 와 동일한 기능의 numpy version"
   ]
  },
  {
   "cell_type": "markdown",
   "metadata": {},
   "source": [
    "## np.linspace()\n",
    "\n",
    "np.linspace(start, end, num)  - [start, end] 를 균일한 간격으로 num 개 element 생성"
   ]
  },
  {
   "cell_type": "markdown",
   "metadata": {},
   "source": [
    "## matrix"
   ]
  },
  {
   "cell_type": "code",
   "execution_count": 3,
   "metadata": {
    "slideshow": {
     "slide_type": "subslide"
    }
   },
   "outputs": [],
   "source": [
    "# 주어진 dimension 의 matrix 정의"
   ]
  },
  {
   "cell_type": "markdown",
   "metadata": {},
   "source": [
    "## Indexing / Slicing"
   ]
  },
  {
   "cell_type": "markdown",
   "metadata": {
    "slideshow": {
     "slide_type": "slide"
    }
   },
   "source": [
    "<img src=\"axes.png\" width=\"600\">\n",
    "\n",
    "<img src=\"numpy.png\" width=\"400\">\n",
    "\n"
   ]
  },
  {
   "cell_type": "markdown",
   "metadata": {
    "slideshow": {
     "slide_type": "subslide"
    }
   },
   "source": [
    "<img src=\"tensor.jpg\" width=\"600\">"
   ]
  },
  {
   "cell_type": "code",
   "execution_count": 4,
   "metadata": {
    "slideshow": {
     "slide_type": "subslide"
    }
   },
   "outputs": [],
   "source": [
    "# indexing matrix"
   ]
  },
  {
   "cell_type": "markdown",
   "metadata": {},
   "source": [
    "## Slicing\n",
    "\n",
    "<img src=\"numpy1.png\" width=\"300\">"
   ]
  },
  {
   "cell_type": "markdown",
   "metadata": {
    "slideshow": {
     "slide_type": "slide"
    }
   },
   "source": [
    "### matrix 간의 연산 (Element-wise)\n",
    "\n",
    "### broadcasting\n",
    "\n",
    "- 서로 dimension 이 다른 두개의 array 를 연산할 때 더 큰 쪽의 axes 에 작은 쪽 array 를 반복시켜 match 시키는 것\n",
    "\n",
    "<img src=\"broadcasting.png\" width=\"350\">"
   ]
  },
  {
   "cell_type": "markdown",
   "metadata": {
    "slideshow": {
     "slide_type": "slide"
    }
   },
   "source": [
    "## random value\n",
    "\n",
    "np.random.random_sample  -  [0.0, 1.0)  사이의 random 숫자   \n",
    "> alias : np.random.random   ((n, m))  \n",
    "> np.random.rand (n, m) : parameter 받는 형식만 차이. 결과 동일(Matlab 사용자들을 위한 편의 제공)\n",
    "\n",
    "\n",
    "np.random.randn - 표준정규분포의 random 숫자"
   ]
  },
  {
   "cell_type": "markdown",
   "metadata": {},
   "source": [
    "## Boolean Indexing"
   ]
  },
  {
   "cell_type": "markdown",
   "metadata": {},
   "source": [
    "## Fancy Indexing\n",
    "\n",
    "- 정수나 불린(Boolean) 값을 가지는 다른 Numpy 배열로 배열을 인덱싱할 수 있는 기능\n",
    "\n",
    "\n",
    "<img src=\"fancyindex.png\" width=\"500\">"
   ]
  },
  {
   "cell_type": "markdown",
   "metadata": {},
   "source": [
    "## mean, std, var, sum, cumsum, min, max, argmin, argmax"
   ]
  }
 ],
 "metadata": {
  "kernelspec": {
   "display_name": "Python 3",
   "language": "python",
   "name": "python3"
  },
  "language_info": {
   "codemirror_mode": {
    "name": "ipython",
    "version": 3
   },
   "file_extension": ".py",
   "mimetype": "text/x-python",
   "name": "python",
   "nbconvert_exporter": "python",
   "pygments_lexer": "ipython3",
   "version": "3.7.10"
  }
 },
 "nbformat": 4,
 "nbformat_minor": 2
}
