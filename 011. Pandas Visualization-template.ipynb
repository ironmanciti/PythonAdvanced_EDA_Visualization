{
 "cells": [
  {
   "cell_type": "markdown",
   "metadata": {},
   "source": [
    "# 011. Pandas 를 이용한 시각화"
   ]
  },
  {
   "cell_type": "markdown",
   "metadata": {},
   "source": [
    "## DataFrame.plot"
   ]
  },
  {
   "cell_type": "code",
   "execution_count": 1,
   "metadata": {},
   "outputs": [],
   "source": [
    "# 모든 column 을 동시에 plot\n"
   ]
  },
  {
   "cell_type": "code",
   "execution_count": 2,
   "metadata": {},
   "outputs": [],
   "source": [
    "# 특정 column 을 x 축, y 축으로 지정\n"
   ]
  },
  {
   "cell_type": "markdown",
   "metadata": {},
   "source": [
    "- 2 차원 평면상의 3 차원 정보 plot"
   ]
  },
  {
   "cell_type": "code",
   "execution_count": 3,
   "metadata": {},
   "outputs": [],
   "source": [
    "# Pandas 내장 시각화 기능 사용\n"
   ]
  },
  {
   "cell_type": "code",
   "execution_count": 4,
   "metadata": {},
   "outputs": [],
   "source": [
    "# matplotlib 사용\n"
   ]
  },
  {
   "cell_type": "code",
   "execution_count": 5,
   "metadata": {},
   "outputs": [],
   "source": [
    "# box plot\n"
   ]
  },
  {
   "cell_type": "code",
   "execution_count": 6,
   "metadata": {},
   "outputs": [],
   "source": [
    "# histogram\n"
   ]
  },
  {
   "cell_type": "markdown",
   "metadata": {},
   "source": [
    "가우스 커널을 사용하여 커널 밀도 추정 플롯 생성"
   ]
  },
  {
   "cell_type": "markdown",
   "metadata": {},
   "source": [
    "## The Dataset: Immigration to Canada from 1980 to 2013 <a id=\"2\"></a>\n",
    "\n",
    "Dataset Source: [International migration flows to and from selected countries - The 2015 revision](http://www.un.org/en/development/desa/population/migration/data/empirical2/migrationflows.shtml).\n",
    "\n",
    "이 데이터 세트에는 목적지 국가에서 기록한 국제 이민자의 흐름에 대한 연간 데이터가 포함되어 있습니다. 자료는 출생지, 시민권 또는 외국인과 국민 모두를위한 이전 / 다음 거주지에 따라 유입과 유출을 모두 나타냅니다. 현재 버전은 45 개국에 관한 데이터를 제공합니다.\n",
    "\n",
    "이 실습에서는 캐나다 이민 데이터에 중점을 둘 것입니다."
   ]
  },
  {
   "cell_type": "code",
   "execution_count": 10,
   "metadata": {},
   "outputs": [],
   "source": [
    "# !pip install openpyxl"
   ]
  },
  {
   "cell_type": "code",
   "execution_count": 2,
   "metadata": {},
   "outputs": [
    {
     "data": {
      "text/html": [
       "<div>\n",
       "<style scoped>\n",
       "    .dataframe tbody tr th:only-of-type {\n",
       "        vertical-align: middle;\n",
       "    }\n",
       "\n",
       "    .dataframe tbody tr th {\n",
       "        vertical-align: top;\n",
       "    }\n",
       "\n",
       "    .dataframe thead th {\n",
       "        text-align: right;\n",
       "    }\n",
       "</style>\n",
       "<table border=\"1\" class=\"dataframe\">\n",
       "  <thead>\n",
       "    <tr style=\"text-align: right;\">\n",
       "      <th></th>\n",
       "      <th>Type</th>\n",
       "      <th>Coverage</th>\n",
       "      <th>OdName</th>\n",
       "      <th>AREA</th>\n",
       "      <th>AreaName</th>\n",
       "      <th>REG</th>\n",
       "      <th>RegName</th>\n",
       "      <th>DEV</th>\n",
       "      <th>DevName</th>\n",
       "      <th>1980</th>\n",
       "      <th>...</th>\n",
       "      <th>2012</th>\n",
       "      <th>2013</th>\n",
       "      <th>Unnamed: 43</th>\n",
       "      <th>Unnamed: 44</th>\n",
       "      <th>Unnamed: 45</th>\n",
       "      <th>Unnamed: 46</th>\n",
       "      <th>Unnamed: 47</th>\n",
       "      <th>Unnamed: 48</th>\n",
       "      <th>Unnamed: 49</th>\n",
       "      <th>Unnamed: 50</th>\n",
       "    </tr>\n",
       "  </thead>\n",
       "  <tbody>\n",
       "    <tr>\n",
       "      <th>0</th>\n",
       "      <td>Immigrants</td>\n",
       "      <td>Foreigners</td>\n",
       "      <td>Afghanistan</td>\n",
       "      <td>935</td>\n",
       "      <td>Asia</td>\n",
       "      <td>5501</td>\n",
       "      <td>Southern Asia</td>\n",
       "      <td>902</td>\n",
       "      <td>Developing regions</td>\n",
       "      <td>16</td>\n",
       "      <td>...</td>\n",
       "      <td>2635</td>\n",
       "      <td>2004</td>\n",
       "      <td>NaN</td>\n",
       "      <td>NaN</td>\n",
       "      <td>NaN</td>\n",
       "      <td>NaN</td>\n",
       "      <td>NaN</td>\n",
       "      <td>NaN</td>\n",
       "      <td>NaN</td>\n",
       "      <td>NaN</td>\n",
       "    </tr>\n",
       "    <tr>\n",
       "      <th>1</th>\n",
       "      <td>Immigrants</td>\n",
       "      <td>Foreigners</td>\n",
       "      <td>Albania</td>\n",
       "      <td>908</td>\n",
       "      <td>Europe</td>\n",
       "      <td>925</td>\n",
       "      <td>Southern Europe</td>\n",
       "      <td>901</td>\n",
       "      <td>Developed regions</td>\n",
       "      <td>1</td>\n",
       "      <td>...</td>\n",
       "      <td>620</td>\n",
       "      <td>603</td>\n",
       "      <td>NaN</td>\n",
       "      <td>NaN</td>\n",
       "      <td>NaN</td>\n",
       "      <td>NaN</td>\n",
       "      <td>NaN</td>\n",
       "      <td>NaN</td>\n",
       "      <td>NaN</td>\n",
       "      <td>NaN</td>\n",
       "    </tr>\n",
       "    <tr>\n",
       "      <th>2</th>\n",
       "      <td>Immigrants</td>\n",
       "      <td>Foreigners</td>\n",
       "      <td>Algeria</td>\n",
       "      <td>903</td>\n",
       "      <td>Africa</td>\n",
       "      <td>912</td>\n",
       "      <td>Northern Africa</td>\n",
       "      <td>902</td>\n",
       "      <td>Developing regions</td>\n",
       "      <td>80</td>\n",
       "      <td>...</td>\n",
       "      <td>3774</td>\n",
       "      <td>4331</td>\n",
       "      <td>NaN</td>\n",
       "      <td>NaN</td>\n",
       "      <td>NaN</td>\n",
       "      <td>NaN</td>\n",
       "      <td>NaN</td>\n",
       "      <td>NaN</td>\n",
       "      <td>NaN</td>\n",
       "      <td>NaN</td>\n",
       "    </tr>\n",
       "  </tbody>\n",
       "</table>\n",
       "<p>3 rows × 51 columns</p>\n",
       "</div>"
      ],
      "text/plain": [
       "         Type    Coverage       OdName  AREA AreaName   REG          RegName  \\\n",
       "0  Immigrants  Foreigners  Afghanistan   935     Asia  5501    Southern Asia   \n",
       "1  Immigrants  Foreigners      Albania   908   Europe   925  Southern Europe   \n",
       "2  Immigrants  Foreigners      Algeria   903   Africa   912  Northern Africa   \n",
       "\n",
       "   DEV             DevName  1980  ...  2012  2013  Unnamed: 43  Unnamed: 44  \\\n",
       "0  902  Developing regions    16  ...  2635  2004          NaN          NaN   \n",
       "1  901   Developed regions     1  ...   620   603          NaN          NaN   \n",
       "2  902  Developing regions    80  ...  3774  4331          NaN          NaN   \n",
       "\n",
       "   Unnamed: 45  Unnamed: 46  Unnamed: 47  Unnamed: 48  Unnamed: 49  \\\n",
       "0          NaN          NaN          NaN          NaN          NaN   \n",
       "1          NaN          NaN          NaN          NaN          NaN   \n",
       "2          NaN          NaN          NaN          NaN          NaN   \n",
       "\n",
       "   Unnamed: 50  \n",
       "0          NaN  \n",
       "1          NaN  \n",
       "2          NaN  \n",
       "\n",
       "[3 rows x 51 columns]"
      ]
     },
     "execution_count": 2,
     "metadata": {},
     "output_type": "execute_result"
    }
   ],
   "source": [
    "import pandas as pd\n",
    "import matplotlib.patches as mpatches # needed for waffle Charts\n",
    "\n",
    "df_can = pd.read_excel('data/Canada.xlsx', engine='openpyxl',\n",
    "                       sheet_name='Canada by Citizenship',\n",
    "                       skiprows=range(20),\n",
    "                       skipfooter=2)\n",
    "df_can.head(3)"
   ]
  },
  {
   "cell_type": "code",
   "execution_count": 7,
   "metadata": {},
   "outputs": [],
   "source": [
    "# 데이터 세트를 정리하여 불필요한 열(예 : REG)을 제거\n"
   ]
  },
  {
   "cell_type": "code",
   "execution_count": 8,
   "metadata": {},
   "outputs": [],
   "source": [
    "# 이해하기 쉽게 열 이름을 변경합니다.\n"
   ]
  },
  {
   "cell_type": "code",
   "execution_count": 9,
   "metadata": {},
   "outputs": [],
   "source": [
    "# 일관성을 위해 모든 열 레이블을 문자열 유형으로 만듭니다.\n"
   ]
  },
  {
   "cell_type": "code",
   "execution_count": 10,
   "metadata": {},
   "outputs": [],
   "source": [
    "# 국가 이름을 색인으로 설정하면 .loc 메소드를 사용하여 국가를 빠르게 찾는 데 유용합니다.\n",
    "\n",
    "# 이 노트북에서 사용할 연도 - 나중에 플로팅하는 데 유용합니다."
   ]
  },
  {
   "cell_type": "code",
   "execution_count": 11,
   "metadata": {},
   "outputs": [],
   "source": [
    "# total column 추가\n"
   ]
  },
  {
   "cell_type": "markdown",
   "metadata": {},
   "source": [
    "## Series or DataFrame 의 plotting\n",
    "\n",
    "- X 축 : index value   \n",
    "\n",
    "- Y 축 : 해당 index 의 value\n",
    "\n",
    "- plot 의 kind\n",
    "\n",
    "    * `line` (default)\n",
    "    * `bar` : vertical bar plots\n",
    "    * `barh` :  horizontal bar plots\n",
    "    * `hist` : histogram\n",
    "    * `box` : boxplot\n",
    "    * `kde` or `density` : density plots\n",
    "    * `area` : area plots\n",
    "    * `pie` : pie plots\n",
    "    * `scatter` : scatter plots\n",
    "    * `hexbin` : hexbin plot"
   ]
  },
  {
   "cell_type": "markdown",
   "metadata": {},
   "source": [
    "### Line Pots (Series/Dataframe) "
   ]
  },
  {
   "cell_type": "markdown",
   "metadata": {},
   "source": [
    "- Haiti 의 연도별 이민자 수 시각화"
   ]
  },
  {
   "cell_type": "markdown",
   "metadata": {},
   "source": [
    "### 다른 나라들 간의 이민자 수 비교를 위해 그래프에 더 많은 국가 추가 \n",
    "\n",
    "- 1980 년부터 2013 년까지 인도와 중국 이민자 수를 비교\n",
    "\n",
    "Step 1: China 와 India 를 dataframe 에서 따로 추출하여 plot 한다"
   ]
  },
  {
   "cell_type": "markdown",
   "metadata": {},
   "source": [
    "* *pandas*는 x 축의 인덱스와 y 축의 개별 라인으로의 열을 그려준다. `df_ci`는`country`를 인덱스로,`years`를 컬럼으로하는 데이터 프레임이기 때문에 행과 열을 바꾸기 위해 먼저`transpose ()`메소드를 사용하여 데이터 프레임을 변경한다."
   ]
  },
  {
   "cell_type": "markdown",
   "metadata": {},
   "source": [
    "### 캐나다 이민에 가장 많은 기여를 한 상위 5 개국의 추세를 비교"
   ]
  },
  {
   "cell_type": "markdown",
   "metadata": {},
   "source": [
    "- 상위 5 개의 인덱스 값을 정수형으로 변경하여 플로팅"
   ]
  },
  {
   "cell_type": "markdown",
   "metadata": {},
   "source": [
    "## Histogram\n",
    "\n",
    "- 발생 빈도 비교"
   ]
  },
  {
   "cell_type": "code",
   "execution_count": 12,
   "metadata": {},
   "outputs": [],
   "source": [
    "# India 이민자 발생 빈도 비교\n"
   ]
  },
  {
   "cell_type": "markdown",
   "metadata": {},
   "source": [
    "## Bar Chart"
   ]
  },
  {
   "cell_type": "code",
   "execution_count": 13,
   "metadata": {},
   "outputs": [],
   "source": [
    "# Iceland \n"
   ]
  },
  {
   "cell_type": "code",
   "execution_count": 14,
   "metadata": {},
   "outputs": [],
   "source": [
    "# bar chart\n"
   ]
  },
  {
   "cell_type": "markdown",
   "metadata": {},
   "source": [
    "### 같은 plot 에 여러개의 histogram 겹쳐 그리기\n",
    "\n",
    "### 1980 년부터 2013 년까지 Denmark, Norway, Sweden 의 Canada 이민자 분포"
   ]
  },
  {
   "cell_type": "markdown",
   "metadata": {},
   "source": [
    "### 위의 plot 을 보기 좋게 조정\n",
    "\n",
    "- np.histogram(array, bin) --> histogram 값, bin edge 반환"
   ]
  },
  {
   "cell_type": "markdown",
   "metadata": {},
   "source": [
    "## Bar Chart + 주석 달기\n",
    "\n",
    "- 그룹화된 범주형 변수의 크기를 표시\n",
    "\n",
    "- kind='bar' : 세로막대  \n",
    "- kind='barh' : 가로막대"
   ]
  },
  {
   "cell_type": "markdown",
   "metadata": {},
   "source": [
    "### 가로막대 plot\n",
    "\n",
    "- 가로로 표시할 경우 길이 제한을 받지 않아 더 실용적일 수 있음"
   ]
  },
  {
   "cell_type": "markdown",
   "metadata": {},
   "source": [
    "## Waffle Chart \n",
    "\n",
    "- [PyWaffle](https://github.com/ligyxy/PyWaffle) 를 이용한 waffle chart plot  \n",
    "\n",
    "\n",
    "- matplotlib.pyplot.figure 의 FigureClass parameter 로 지정   \n",
    "\n",
    "\n",
    "- pip install pywaffle  로 설치\n",
    "\n",
    "\n",
    "- 사용예\n",
    "```\n",
    "fig = plt.figure(\n",
    "    FigureClass=Waffle, \n",
    "    rows=5, \n",
    "    columns=10, \n",
    "    values=[48, 46, 3]\n",
    ")\n",
    "```"
   ]
  },
  {
   "cell_type": "code",
   "execution_count": 44,
   "metadata": {},
   "outputs": [],
   "source": [
    "# !pip install pywaffle"
   ]
  },
  {
   "cell_type": "code",
   "execution_count": 45,
   "metadata": {},
   "outputs": [],
   "source": [
    "from pywaffle import Waffle"
   ]
  },
  {
   "cell_type": "code",
   "execution_count": 15,
   "metadata": {},
   "outputs": [],
   "source": [
    "# Waffle Chart 작성을 위해 3 개국만으로 새로운 DataFrame 구성 \n"
   ]
  },
  {
   "cell_type": "markdown",
   "metadata": {},
   "source": [
    "**1 단계 :** 각 국가별 구성 비율 계산"
   ]
  },
  {
   "cell_type": "markdown",
   "metadata": {},
   "source": [
    "**2 단계 :**  `waffle` chart 의 size (tile 갯수) 결정"
   ]
  },
  {
   "cell_type": "markdown",
   "metadata": {},
   "source": [
    "**3단계:** 국가별 tile 수 결정"
   ]
  },
  {
   "cell_type": "code",
   "execution_count": null,
   "metadata": {},
   "outputs": [],
   "source": []
  }
 ],
 "metadata": {
  "kernelspec": {
   "display_name": "Python 3",
   "language": "python",
   "name": "python3"
  },
  "language_info": {
   "codemirror_mode": {
    "name": "ipython",
    "version": 3
   },
   "file_extension": ".py",
   "mimetype": "text/x-python",
   "name": "python",
   "nbconvert_exporter": "python",
   "pygments_lexer": "ipython3",
   "version": "3.7.10"
  }
 },
 "nbformat": 4,
 "nbformat_minor": 2
}
