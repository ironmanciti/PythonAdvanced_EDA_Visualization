{
 "cells": [
  {
   "cell_type": "markdown",
   "metadata": {},
   "source": [
    "# 013. Seaborn Advanced"
   ]
  },
  {
   "cell_type": "code",
   "execution_count": 1,
   "metadata": {},
   "outputs": [],
   "source": [
    "import numpy as np\n",
    "import matplotlib.pyplot as plt\n",
    "import seaborn as sns\n",
    "import pandas as pd"
   ]
  },
  {
   "cell_type": "markdown",
   "metadata": {},
   "source": [
    "- Bar Plot  : bar 길이가 비율을 표시  \n",
    "- Count Plot : y 축 variable 의 observation 수\n",
    "- Point Plot : bar plot 과 같은 의미를 다른 style 로 표시. 서로 다른 높이의 point 로 표시"
   ]
  },
  {
   "cell_type": "markdown",
   "metadata": {},
   "source": [
    "### 타이타닉호 승객의 생존 여부 분석 시각화"
   ]
  },
  {
   "cell_type": "markdown",
   "metadata": {},
   "source": [
    "### barplot\n",
    "\n",
    "- 포인트 추정치 및 신뢰 구간을 직사각형 막대로 표시합니다. \n",
    "\n",
    "- 타이타닉호 남녀 성별 객실 등급별 생존 확률 표시"
   ]
  },
  {
   "cell_type": "markdown",
   "metadata": {},
   "source": [
    "### countplot\n",
    "\n",
    "- 막대를 사용하여 각 범주형 bin의 관측치 수를 표시합니다.  \n",
    "\n",
    "- 타이타닉호 객실 등급별 생존 sample 수 표시"
   ]
  },
  {
   "cell_type": "markdown",
   "metadata": {},
   "source": [
    "### pointplot\n",
    "\n",
    "- 포인트 플롯은 산점도 포인트의 위치에 따른 숫자 변수의 중심 경향 추정치(평균, 중앙값)를 나타내며 오차 막대를 사용하여 해당 추정치 주변의 불확실성에 대한 일부 표시를 제공합니다.\n",
    "\n",
    "- 타이타닉호 남녀 성별, class 별 생존 확률의 변화 표시"
   ]
  },
  {
   "cell_type": "markdown",
   "metadata": {},
   "source": [
    "## Wide Form 의 Data 표시\n",
    "\n",
    "- 대부분의 경우 세로로 길거나 tidy 한 dataset 이 선호되지만 가로로 긴 wide-form dataset 의 경우 지금까지와 같은 plot 을 세로로 표시"
   ]
  },
  {
   "cell_type": "markdown",
   "metadata": {},
   "source": [
    "### iris.feature_names : \n",
    "\n",
    "Sepal Length : 꽃받침 길이  \n",
    "Sepal Width  : 꽃받침 너비   \n",
    "Petal Length  : 꽃잎 길이  \n",
    "Petal Width   :  꽃잎 너비 \n",
    "\n",
    "Species (꽃의 종류) :  setosa / versicolor / virginica 의 3종류로 구분된다."
   ]
  },
  {
   "cell_type": "markdown",
   "metadata": {},
   "source": [
    "## Linear Relationship\n",
    "\n",
    "- regplot  \n",
    "    - regplot ()은 단순 선형 회귀 모델 피팅 및 플롯을 수행합니다. \n",
    "    - 95% confidence interval 을 함께 표시"
   ]
  },
  {
   "cell_type": "markdown",
   "metadata": {},
   "source": [
    "### tip column 을 대상으로 하여 각 dinner의 팁 금액을 예측합니다."
   ]
  },
  {
   "cell_type": "markdown",
   "metadata": {},
   "source": [
    "- color, marker 종류, 크기 조절"
   ]
  },
  {
   "cell_type": "markdown",
   "metadata": {},
   "source": [
    "## Facet Grid\n",
    "\n",
    "- data 의 subset 으로 histogram 을 그려 비교하는 것을 매우 쉽게 할 수 있다.\n",
    "\n",
    "\n",
    "- 이산형 변수를 기준으로 row, col, hue 의 3 차원 구조를 형성.  \n",
    "\n",
    "\n",
    "- FacetGrid에 데이터프레임과 구분할 row, col, hue 등을 전달해 객체 생성\n",
    "\n",
    "    - row : FacetGrid 의 row 정의  \n",
    "    - col : FacetGrid 의 column 정의\n",
    "    - hues : data 의 색 구분  \n",
    "    \n",
    "    \n",
    "- FacetGrid.map() 함수를 이용하여 실제 시각화. 따라서 동일한 종류의 plot을 그린다"
   ]
  },
  {
   "cell_type": "markdown",
   "metadata": {},
   "source": [
    "- 여성보다 남성이 더 tip을 많이 주고, 점심 보다 저녁에 더 tip 이 많음을 볼 수 있다."
   ]
  },
  {
   "cell_type": "markdown",
   "metadata": {},
   "source": [
    "- 남, 녀별로 흡연, 비흡연자의 전체 음식값 대비 tip 의 산점도 plot"
   ]
  },
  {
   "cell_type": "markdown",
   "metadata": {},
   "source": [
    "- 점심, 저녁의 식사값 대비 tip 비율 비교"
   ]
  },
  {
   "cell_type": "markdown",
   "metadata": {},
   "source": [
    "- 남, 녀 별로 점심, 저녁의 식사값 대비 tip 비율 비교"
   ]
  },
  {
   "cell_type": "markdown",
   "metadata": {},
   "source": [
    "## Pair Grid\n",
    "\n",
    "- FacetGrid 와 차이점은 각 subplot 마다 다른 pair 의 변수를 사용한다는 것과 matrix 구조을 이루는 것\n",
    "\n",
    "\n",
    "- 사용법은 FacetGrid 와 같다. grid 를 초기화 하고 plot 함수를 pass 시킨다."
   ]
  },
  {
   "cell_type": "markdown",
   "metadata": {},
   "source": [
    "전체 pair 를 scatter plot 으로 그린다."
   ]
  },
  {
   "cell_type": "markdown",
   "metadata": {},
   "source": [
    "다른 함수를 이용하여 대각선에 각 column 의 univariate distribution 을 표시할 수도 있다.  \n",
    "\n",
    "ex) 대각선은 histogram. 대각선 외에는 scatter plot 을 그리는 경우"
   ]
  },
  {
   "cell_type": "markdown",
   "metadata": {},
   "source": [
    "hue parameter 에 species column 을 지정하면 한 pair plot 에 3 차원 정보 표현"
   ]
  },
  {
   "cell_type": "markdown",
   "metadata": {},
   "source": [
    "- matrix 의 상삼각(map_upper)과 하삼각(map_lower)에 각각 다른 함수를 적용할 수도 있다."
   ]
  },
  {
   "cell_type": "markdown",
   "metadata": {},
   "source": [
    "## heatmap"
   ]
  }
 ],
 "metadata": {
  "kernelspec": {
   "display_name": "Python 3",
   "language": "python",
   "name": "python3"
  },
  "language_info": {
   "codemirror_mode": {
    "name": "ipython",
    "version": 3
   },
   "file_extension": ".py",
   "mimetype": "text/x-python",
   "name": "python",
   "nbconvert_exporter": "python",
   "pygments_lexer": "ipython3",
   "version": "3.7.10"
  }
 },
 "nbformat": 4,
 "nbformat_minor": 2
}
