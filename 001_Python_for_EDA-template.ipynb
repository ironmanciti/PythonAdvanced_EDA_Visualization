{
 "cells": [
  {
   "cell_type": "markdown",
   "id": "06d1d62d",
   "metadata": {},
   "source": [
    "# 001. Python을 활용한 EDA(Exploratory Data Anlaysis)"
   ]
  },
  {
   "cell_type": "markdown",
   "id": "35c8175d",
   "metadata": {},
   "source": [
    "# Data Files and Summary Statistics"
   ]
  },
  {
   "cell_type": "markdown",
   "id": "personal-canvas",
   "metadata": {},
   "source": [
    "- csv file 을 읽어서 각 record 가 dictionary 형태인 list 만들기\n",
    "```\n",
    "with open('data/mpg.csv') as csvfile:\n",
    "    mpg = list(csv.DictReader(csvfile))\n",
    "```\n",
    "  , manufacturer , model , displ , year , cyl , trans , drv , cty , hwy , fl , class   \n",
    " 1 , audi , a4 ,1.8,1999,4, auto(l5) , f ,18,29, p , compact   \n",
    " 2 , audi , a4 ,1.8,1999,4, manual(m5) , f ,21,29, p , compact   \n",
    " 3 , audi , a4 ,2,2008,4, manual(m6) , f ,20,31, p , compact   \n",
    "\n",
    "\n",
    "- displ : 배기량, class: 차량 종류"
   ]
  },
  {
   "cell_type": "code",
   "execution_count": null,
   "id": "074e5950",
   "metadata": {},
   "outputs": [],
   "source": []
  },
  {
   "cell_type": "markdown",
   "id": "e9190634",
   "metadata": {},
   "source": [
    "### csv 파일의 column 명 파악"
   ]
  },
  {
   "cell_type": "code",
   "execution_count": null,
   "id": "39794563",
   "metadata": {},
   "outputs": [],
   "source": []
  },
  {
   "cell_type": "markdown",
   "id": "41f90973",
   "metadata": {},
   "source": [
    "### 연비 평균값 계산 \n",
    "\n",
    "- 고속도로 연비가 시내 주행 연비보다 높을 것이라는 상식 확인"
   ]
  },
  {
   "cell_type": "code",
   "execution_count": 2,
   "id": "e5158ac3",
   "metadata": {},
   "outputs": [],
   "source": [
    "# 평균 시내 주행 연비\n"
   ]
  },
  {
   "cell_type": "code",
   "execution_count": 3,
   "id": "78938d2c",
   "metadata": {},
   "outputs": [],
   "source": [
    "# 평균 고속도로 연비\n"
   ]
  },
  {
   "cell_type": "markdown",
   "id": "facdcc23",
   "metadata": {},
   "source": [
    "### Cylinder 수에 따른 시내 연비 계산 \n",
    "\n",
    "- 기통 수가 올라갈 수록 연비가 떨어질 것이라는 상식 확인"
   ]
  },
  {
   "cell_type": "markdown",
   "id": "selected-south",
   "metadata": {},
   "source": [
    "- unique 한 cylinder 수 구하기. Python 의 set 자료형을 이용하여 중복 제거"
   ]
  },
  {
   "cell_type": "code",
   "execution_count": null,
   "id": "47019153",
   "metadata": {},
   "outputs": [],
   "source": []
  },
  {
   "cell_type": "markdown",
   "id": "statistical-subsection",
   "metadata": {},
   "source": [
    "- cylinder 수 별로 평균 시내주행 연비 dictionary 작성  "
   ]
  },
  {
   "cell_type": "code",
   "execution_count": null,
   "id": "a289aa5d",
   "metadata": {},
   "outputs": [],
   "source": []
  },
  {
   "cell_type": "markdown",
   "id": "83746ff0",
   "metadata": {},
   "source": [
    "### 차량 type 에 따른 고속도로 연비 차이 파악"
   ]
  },
  {
   "cell_type": "markdown",
   "id": "charming-advantage",
   "metadata": {},
   "source": [
    "- unique 한 차량 종류 구하기. Python 의 set 자료형을 이용하여 중복 제거"
   ]
  },
  {
   "cell_type": "code",
   "execution_count": null,
   "id": "da8d845d",
   "metadata": {},
   "outputs": [],
   "source": []
  },
  {
   "cell_type": "code",
   "execution_count": null,
   "id": "40eca2c2",
   "metadata": {},
   "outputs": [],
   "source": []
  },
  {
   "cell_type": "markdown",
   "id": "23cd8045",
   "metadata": {},
   "source": [
    "## Python 으로 Date, Time 표현하기"
   ]
  },
  {
   "cell_type": "code",
   "execution_count": null,
   "id": "bfcfa5f2",
   "metadata": {},
   "outputs": [],
   "source": []
  },
  {
   "cell_type": "markdown",
   "id": "prospective-change",
   "metadata": {},
   "source": [
    "- 현재 날자 + 시간 : datetime"
   ]
  },
  {
   "cell_type": "code",
   "execution_count": null,
   "id": "c1337390",
   "metadata": {},
   "outputs": [],
   "source": []
  },
  {
   "cell_type": "code",
   "execution_count": null,
   "id": "29c2b110",
   "metadata": {},
   "outputs": [],
   "source": []
  },
  {
   "cell_type": "markdown",
   "id": "da5921e8",
   "metadata": {},
   "source": [
    "### time delta"
   ]
  },
  {
   "cell_type": "markdown",
   "id": "declared-region",
   "metadata": {},
   "source": [
    "- 날자 기간 지정"
   ]
  },
  {
   "cell_type": "code",
   "execution_count": null,
   "id": "f2d70100",
   "metadata": {},
   "outputs": [],
   "source": []
  },
  {
   "cell_type": "markdown",
   "id": "herbal-sigma",
   "metadata": {},
   "source": [
    "- 기간을 더한 날자 계산 : 오늘 날자 + delta"
   ]
  },
  {
   "cell_type": "code",
   "execution_count": null,
   "id": "475cad1f",
   "metadata": {},
   "outputs": [],
   "source": []
  },
  {
   "cell_type": "markdown",
   "id": "pregnant-single",
   "metadata": {},
   "source": [
    "# Python 의 Regular Expression(정규식) 문법\n",
    "- Python 은 정규식을 지원하는 re module 을 제공\n",
    "\n",
    "#### 정규식 혹은 정규표현식은 특정한 규칙을 가진 문자열의 집단을 표현하는 방식이다.\n",
    "\n",
    "- 특정한 규칙을 가진 문자열의 집합을 표현하는 데 사용하는 형식 언어\n",
    "\n",
    "## 정규식의 기본 pattern \n",
    "\n",
    "- 패턴(pattern) - 특정 목적을 위해 필요한 문자열 집합을 지정하기 위해 쓰이는 식\n",
    "\n",
    "### meta 문자\n",
    "\n",
    "- meta 문자는 특수한 의미를 가지므로 위와 같이 자기 자체로 match 시키지 않는다.   \n",
    "       . ^ $ * + ? { } [ ] \\ | ( )\n",
    "       \n",
    "       \n",
    "- special character 는 ``\\``를 앞에 두면 된다. $\\text{ex) \\., \\\\\\, \\@, etc}$\n",
    "\n",
    "### single character match\n",
    "\n",
    "- ``a-z, A-Z, 0-9`` $\\leftarrow$ 영문 대/소문자, 숫자는 자기 자체로 match 시킨다.\n",
    "\n",
    "        ex) re.search(r'12g', 'p12g')  --> match='12g'\n",
    "\n",
    "- ``.`` (period) 는 아무 문자(any character) 와도 match. (단, \\n (new line) 제외)  \n",
    "\n",
    "\n",
    "- ``\\w`` 는 word character (a-z, A-Z, 0-9) 와 match. (single character)  \n",
    "\n",
    "- ``\\W`` - NOT ``\\w``\n",
    "\n",
    "\n",
    "- ``\\b`` 는 word (``\\w``) 와 non-word (``\\W``) 의 boundary (position)\n",
    "\n",
    "\n",
    "- ``\\s`` 는 white space (space, new line, return, tab) 와 match. (single white space)\n",
    "- ``\\S`` 는 non-white space \n",
    "\n",
    "\n",
    "- ``\\d`` 는 decimal digit (0-9) 와 match.\n",
    "- ``\\D`` - NOT ``\\d``\n",
    "\n",
    "### quantifier (나타나는 횟수)\n",
    "\n",
    "- ``\\*`` : 바로 앞 문자가 0 회 이상 나타남  \n",
    "\n",
    "- ``\\+`` : 바로 앞 문자가 1 회 이상 나타남  \n",
    "\n",
    "- ``\\?`` : 바로 앞 문자가 0 회 혹은 1 회 나타남 (optional)\n",
    "\n",
    "\n",
    "### position\n",
    "\n",
    "\n",
    "- ``^`` : string 의 처음을 의미, \n",
    "\n",
    "- ``$`` : string 의 끝을 의미한다.\n",
    "\n",
    "- \\[ \\] 내의 ``^`` 는 NOT 의미, ex) [^A-Z] : A-Z 을 제외한 문자\n",
    "\n",
    "\n",
    "### grouping\n",
    "- `( )`"
   ]
  },
  {
   "cell_type": "markdown",
   "id": "victorian-disorder",
   "metadata": {},
   "source": [
    "## 사용 method\n",
    "\n",
    "- re.search(pattern, string) :\tstring에서 pattern과 매치하는 텍스트를 탐색한다 (처음 한개 매치)\n",
    "\n",
    "\n",
    "- re.findall( ) : string 에서 pattern 과 match 되는 것을 전부 list 로 반환\n",
    "\n",
    "\n",
    "- re.sub(pattern, repl, string) : string에서 pattern과 매치하는 텍스트를 repl로 치환한다  "
   ]
  },
  {
   "cell_type": "code",
   "execution_count": null,
   "id": "recovered-ordinary",
   "metadata": {},
   "outputs": [],
   "source": []
  },
  {
   "cell_type": "code",
   "execution_count": null,
   "id": "married-princess",
   "metadata": {},
   "outputs": [],
   "source": []
  },
  {
   "cell_type": "code",
   "execution_count": null,
   "id": "dated-portsmouth",
   "metadata": {},
   "outputs": [],
   "source": []
  },
  {
   "cell_type": "code",
   "execution_count": null,
   "id": "academic-matthew",
   "metadata": {},
   "outputs": [],
   "source": []
  },
  {
   "cell_type": "code",
   "execution_count": null,
   "id": "polar-choice",
   "metadata": {},
   "outputs": [],
   "source": []
  },
  {
   "cell_type": "markdown",
   "id": "abstract-hacker",
   "metadata": {},
   "source": [
    "### match 되는 pattern 의 반복 (Repetition)\n",
    "\n",
    "- \\+ $\\rightarrow$ 1개 혹은 그 이상의 해당 pattern 이 왼쪽에 있음\n",
    "\n",
    "\n",
    "- \\* $\\rightarrow$ 0 혹은 그 이상의 해당 pattern 이 왼쪽에 있음\n",
    "\n",
    "\n",
    "- \\? $\\rightarrow$ 0 혹은 1 개의 해당 pattern 이 왼쪽에 있음"
   ]
  },
  {
   "cell_type": "code",
   "execution_count": null,
   "id": "industrial-submission",
   "metadata": {},
   "outputs": [],
   "source": []
  },
  {
   "cell_type": "code",
   "execution_count": null,
   "id": "central-shopping",
   "metadata": {},
   "outputs": [],
   "source": []
  },
  {
   "cell_type": "markdown",
   "id": "naked-damages",
   "metadata": {},
   "source": [
    "- ``숫자 1 + white space 0 개 이상 + 숫자 1 + white space 0개 이상 + 숫자 1`` 의 pattern"
   ]
  },
  {
   "cell_type": "code",
   "execution_count": null,
   "id": "about-bahamas",
   "metadata": {},
   "outputs": [],
   "source": []
  },
  {
   "cell_type": "code",
   "execution_count": null,
   "id": "geographic-cassette",
   "metadata": {},
   "outputs": [],
   "source": []
  },
  {
   "cell_type": "markdown",
   "id": "planned-heritage",
   "metadata": {},
   "source": [
    "### 대괄호 ([  ])\n",
    "\n",
    "- character set 을 표시한다. 예를 들어 ``[abc]`` 는 a, b, c 와 match 된다. 단, ``[ ]`` 내의 ``.`` 는 메타 문자가 아니라 실제 ``.`` 표시이다.   \n",
    "\n",
    "\n",
    "- ``[]`` 는 character set 중의 한 개 글자를 의미 \n",
    "\n",
    "    ```[0-9]``` : ``0~9`` 중 single digit  \n",
    "    ```[0-9]+``` : ``0~9`` 중 한개 이상의 digit"
   ]
  },
  {
   "cell_type": "code",
   "execution_count": null,
   "id": "virtual-discrimination",
   "metadata": {},
   "outputs": [],
   "source": []
  },
  {
   "cell_type": "markdown",
   "id": "electronic-bacteria",
   "metadata": {},
   "source": [
    "### Group 구분\n",
    "\n",
    "matching text 를 여러 부분으로 구분할 때 사용"
   ]
  },
  {
   "cell_type": "code",
   "execution_count": 79,
   "id": "eight-setting",
   "metadata": {},
   "outputs": [],
   "source": []
  },
  {
   "cell_type": "code",
   "execution_count": null,
   "id": "otherwise-touch",
   "metadata": {},
   "outputs": [],
   "source": []
  },
  {
   "cell_type": "markdown",
   "id": "split-posting",
   "metadata": {},
   "source": [
    "## 한글 처리"
   ]
  },
  {
   "cell_type": "code",
   "execution_count": null,
   "id": "wound-arcade",
   "metadata": {},
   "outputs": [],
   "source": []
  },
  {
   "cell_type": "markdown",
   "id": "hungarian-johns",
   "metadata": {},
   "source": [
    "### 연습 문제\n",
    "\n",
    "- 문서 내용 cleansing"
   ]
  },
  {
   "cell_type": "code",
   "execution_count": null,
   "id": "veterinary-baseball",
   "metadata": {},
   "outputs": [],
   "source": []
  }
 ],
 "metadata": {
  "kernelspec": {
   "display_name": "Python 3",
   "language": "python",
   "name": "python3"
  },
  "language_info": {
   "codemirror_mode": {
    "name": "ipython",
    "version": 3
   },
   "file_extension": ".py",
   "mimetype": "text/x-python",
   "name": "python",
   "nbconvert_exporter": "python",
   "pygments_lexer": "ipython3",
   "version": "3.7.10"
  }
 },
 "nbformat": 4,
 "nbformat_minor": 5
}
