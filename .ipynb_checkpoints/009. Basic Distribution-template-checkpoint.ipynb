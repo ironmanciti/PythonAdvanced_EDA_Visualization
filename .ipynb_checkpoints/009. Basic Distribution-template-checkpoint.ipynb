{
 "cells": [
  {
   "cell_type": "markdown",
   "metadata": {},
   "source": [
    "# 009. Probability Distribution "
   ]
  },
  {
   "cell_type": "markdown",
   "metadata": {},
   "source": [
    "### Random Variable (확률변수)\n",
    "- 무작위로 다른 값을 가질 수 있는 변수.\n",
    "- $x_1$, $x_2$ $\\cdot \\cdot$ 는 변수 x가 될 수 있는 가능한 값입니다.\n",
    "- 확률 분포는 각 값이 발생할 가능성을 지정합니다.\n",
    "\n",
    "### Probability Mass Functions (확률질량함수)\n",
    "- 이산 확률 변수에 대한 확률 분포를 확률 질량 함수(PMF)라고 합니다.\n",
    "- 이산 확률 변수에서 특정 값에 대한 확률을 나타내는 함수입니다. 이 함수는 연속 확률 변수에서의 확률 밀도 함수와 대응됩니다.\n",
    "\n",
    "### Probability Density Function (확률밀도함수)\n",
    "- 연속형 변수에 대한 확률 분포를 확률 밀도 함수(PDF)라고 합니다."
   ]
  },
  {
   "cell_type": "markdown",
   "metadata": {},
   "source": [
    "## 정규 분포 (Normal Distribution, Gaussian Distribution) \n",
    "\n",
    "$$N(x; \\mu, \\sigma^2) = \\sqrt{\\frac{1}{2\\pi\\sigma^2}}\\mathrm {exp}\\left(-\\frac{1}{2\\sigma^2}(x-\\mu)^2 \\right)$$\n",
    "\n",
    "## Uniform Distribution (균등분포)\n",
    "- 각 분포 상태가 동일할 가능성이 있습니다.\n",
    "- $P(x = x_i) = \\frac{1}{k}$\n",
    "- $\\sum_i P(x = x_i) = \\sum_i \\frac{1}{k_i} = \\frac{k}{k} = 1$\n",
    "\n",
    "## 이항 분포\n",
    "\n",
    "$P(x=1) = \\Phi$  \n",
    "$P(x=0) = 1 - \\Phi$\n",
    "\n",
    "- 이항 분포(binomial distribution)는 연속된 n번의 독립적 시행에서 각 시행이 확률 p를 가질 때의 이산 확률 분포이다. 베르누이 분포.  \n",
    "\n",
    "- np.random.binomial(n, p, size)\n",
    "    - n : 시행 횟수  \n",
    "    - p : 1 이 나올 확률\n",
    "    - size : 반복 횟수"
   ]
  },
  {
   "cell_type": "code",
   "execution_count": 2,
   "metadata": {},
   "outputs": [],
   "source": [
    "from scipy.stats import norm\n",
    "import numpy as np\n",
    "import matplotlib.pyplot as plt\n",
    "import pandas as pd"
   ]
  },
  {
   "cell_type": "markdown",
   "metadata": {},
   "source": [
    "### 정규확률 밀도함수 그리기\n",
    "\n",
    "- scipy.stats.norm 이용\n",
    "\n",
    "- 확률밀도함수 : pdf(x, loc=0, scale=1) --> x: 범위, loc: 평균, scale: 표준편차\n",
    "\n",
    "- 확률분포(누적분포)함수 : cdf(x, loc=0, scale=1)\n",
    "\n",
    "- 정규분포의 표준편차 : np.std(normal)\n",
    "\n",
    "### 확률밀도함수와 누적분포 함수를 시각화"
   ]
  },
  {
   "cell_type": "code",
   "execution_count": 1,
   "metadata": {},
   "outputs": [],
   "source": [
    "\n",
    "#확률 밀도 함수\n",
    "\n",
    "\n",
    "#확률 누적 함수\n"
   ]
  },
  {
   "cell_type": "markdown",
   "metadata": {},
   "source": [
    "### IQ Test 의 정규분포 시각화\n",
    "\n",
    "- 평균 IQ : 115\n",
    "- 표준편차 : 15 \n",
    "- 68 - 95 - 99.7 % rule"
   ]
  },
  {
   "cell_type": "markdown",
   "metadata": {},
   "source": [
    "## Uniform Distribution (균등분포)"
   ]
  },
  {
   "cell_type": "markdown",
   "metadata": {},
   "source": [
    "### numpy 함수를 이용하여 비교\n",
    "\n",
    "- uniform(low=0.0, high=1.0, size=None)\n",
    "\n",
    "- normal(loc=0.0, scale=1.0, size=None)"
   ]
  },
  {
   "cell_type": "markdown",
   "metadata": {},
   "source": [
    "## 이항 분포\n",
    "\n",
    "- random.binomial(n, p, size=None) : Draw samples from a binomial distribution \n",
    "    - n : 시행 횟수  \n",
    "    - p : 1 이 나올 확률\n",
    "    - size : 반복 횟수"
   ]
  },
  {
   "cell_type": "code",
   "execution_count": 2,
   "metadata": {},
   "outputs": [],
   "source": [
    "# 동전던지기를 10번 반복 시행"
   ]
  },
  {
   "cell_type": "markdown",
   "metadata": {},
   "source": [
    "- 동전을 1000 번 던져서 앞면(뒷면)이 나올 확률"
   ]
  },
  {
   "cell_type": "markdown",
   "metadata": {},
   "source": [
    "- 동전 앞면이 연속으로 10 번 나올 확률"
   ]
  },
  {
   "cell_type": "markdown",
   "metadata": {},
   "source": [
    "- 100 만번 반복하여 연속으로 앞면이 10 회 나올 횟수"
   ]
  },
  {
   "cell_type": "markdown",
   "metadata": {},
   "source": [
    "## 상관 계수 (Correlation Coefficient)\n",
    "\n",
    "- 두개의 변수가 linear 한 정도를 측정 (ex. 가격/거래량, 가격/강우량 등)  \n",
    "- 언제나 `-1~+1` 사이. \n",
    "- `DataFrame.corr()` method\n",
    "\n",
    "$$r = \\frac{Cov(X, Y)}{std(X)std(Y)}$$"
   ]
  },
  {
   "cell_type": "markdown",
   "metadata": {},
   "source": [
    "### 주식 종목간의 상관 (correlation) 분석\n",
    "\n",
    "- S&P500 종목과 Nasdaq 종목의 ticker 명 dictionary 작성"
   ]
  },
  {
   "cell_type": "code",
   "execution_count": 3,
   "metadata": {},
   "outputs": [],
   "source": [
    "import pickle\n",
    "\n",
    "# ticker 명 file\n",
    "with open('data/sp500tickers.pickle', 'rb') as f:\n",
    "    tickers_sp = pickle.load(f)\n",
    "    \n",
    "with open('data/nasdaq100tickers.pickle', 'rb') as f:\n",
    "    tickers_na = pickle.load(f)"
   ]
  },
  {
   "cell_type": "code",
   "execution_count": 4,
   "metadata": {},
   "outputs": [],
   "source": [
    "# 두 ticker list 결합\n",
    "\n",
    "\n",
    "# ticker to stock name table 작성"
   ]
  },
  {
   "cell_type": "code",
   "execution_count": 5,
   "metadata": {},
   "outputs": [],
   "source": [
    "# 미국 전종목 주식 주가"
   ]
  },
  {
   "cell_type": "markdown",
   "metadata": {},
   "source": [
    "### 미국 주식 전 종목의 상관 관계 계산"
   ]
  },
  {
   "cell_type": "markdown",
   "metadata": {},
   "source": [
    "**각 종목과 가장 correlation 이 높은 top n 종목 구하기**"
   ]
  },
  {
   "cell_type": "code",
   "execution_count": 6,
   "metadata": {},
   "outputs": [],
   "source": [
    "# 첫번째 index 는 key 이므로 두번째 부터 slicing\n",
    "\n",
    "\n",
    "# (ticker Symbol, 상관계수, ticker 종목명)\n"
   ]
  },
  {
   "cell_type": "markdown",
   "metadata": {},
   "source": [
    "- 모든 종목에 대하여 위와 같은 방법으로 dictionary 생성"
   ]
  },
  {
   "cell_type": "code",
   "execution_count": null,
   "metadata": {},
   "outputs": [],
   "source": []
  }
 ],
 "metadata": {
  "kernelspec": {
   "display_name": "Python 3",
   "language": "python",
   "name": "python3"
  },
  "language_info": {
   "codemirror_mode": {
    "name": "ipython",
    "version": 3
   },
   "file_extension": ".py",
   "mimetype": "text/x-python",
   "name": "python",
   "nbconvert_exporter": "python",
   "pygments_lexer": "ipython3",
   "version": "3.7.10"
  }
 },
 "nbformat": 4,
 "nbformat_minor": 2
}
