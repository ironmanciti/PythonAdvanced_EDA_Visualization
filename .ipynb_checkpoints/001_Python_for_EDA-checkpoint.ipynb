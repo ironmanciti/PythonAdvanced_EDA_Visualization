{
 "cells": [
  {
   "cell_type": "markdown",
   "id": "06d1d62d",
   "metadata": {},
   "source": [
    "# 001. Python을 활용한 EDA(Exploratory Data Anlaysis)"
   ]
  },
  {
   "cell_type": "markdown",
   "id": "35c8175d",
   "metadata": {},
   "source": [
    "# Data Files and Summary Statistics"
   ]
  },
  {
   "cell_type": "markdown",
   "id": "personal-canvas",
   "metadata": {},
   "source": [
    "- csv file 을 읽어서 각 record 가 dictionary 형태인 list 만들기\n",
    "```\n",
    "with open('data/mpg.csv') as csvfile:\n",
    "    mpg = list(csv.DictReader(csvfile))\n",
    "```\n",
    "  , manufacturer , model , displ , year , cyl , trans , drv , cty , hwy , fl , class   \n",
    " 1 , audi , a4 ,1.8,1999,4, auto(l5) , f ,18,29, p , compact   \n",
    " 2 , audi , a4 ,1.8,1999,4, manual(m5) , f ,21,29, p , compact   \n",
    " 3 , audi , a4 ,2,2008,4, manual(m6) , f ,20,31, p , compact   \n",
    "\n",
    "\n",
    "- displ : 배기량, class: 차량 종류"
   ]
  },
  {
   "cell_type": "code",
   "execution_count": 13,
   "id": "074e5950",
   "metadata": {},
   "outputs": [
    {
     "name": "stdout",
     "output_type": "stream",
     "text": [
      "total record 수 :  234\n",
      "첫번째 record :  OrderedDict([('', '1'), ('manufacturer', 'audi'), ('model', 'a4'), ('displ', '1.8'), ('year', '1999'), ('cyl', '4'), ('trans', 'auto(l5)'), ('drv', 'f'), ('cty', '18'), ('hwy', '29'), ('fl', 'p'), ('class', 'compact')])\n",
      "첫번째 record의 시내 연비 18\n"
     ]
    }
   ],
   "source": [
    "%precision 2  \n",
    "import csv\n",
    "\n",
    "with open('data/mpg.csv') as csvfile:\n",
    "    mpg = list(csv.DictReader(csvfile))\n",
    "    \n",
    "print(\"total record 수 : \", len(mpg))\n",
    "print(\"첫번째 record : \", mpg[0])\n",
    "print(\"첫번째 record의 시내 연비\", mpg[0]['cty'])"
   ]
  },
  {
   "cell_type": "markdown",
   "id": "e9190634",
   "metadata": {},
   "source": [
    "### csv 파일의 column 명 파악"
   ]
  },
  {
   "cell_type": "code",
   "execution_count": 7,
   "id": "39794563",
   "metadata": {},
   "outputs": [
    {
     "data": {
      "text/plain": [
       "odict_keys(['', 'manufacturer', 'model', 'displ', 'year', 'cyl', 'trans', 'drv', 'cty', 'hwy', 'fl', 'class'])"
      ]
     },
     "execution_count": 7,
     "metadata": {},
     "output_type": "execute_result"
    }
   ],
   "source": [
    "mpg[0].keys()"
   ]
  },
  {
   "cell_type": "markdown",
   "id": "41f90973",
   "metadata": {},
   "source": [
    "### 연비 평균값 계산 \n",
    "\n",
    "- 고속도로 연비가 시내 주행 연비보다 높을 것이라는 상식 확인"
   ]
  },
  {
   "cell_type": "code",
   "execution_count": 21,
   "id": "e5158ac3",
   "metadata": {},
   "outputs": [
    {
     "data": {
      "text/plain": [
       "16.86"
      ]
     },
     "execution_count": 21,
     "metadata": {},
     "output_type": "execute_result"
    }
   ],
   "source": [
    "# 평균 시내 주행 연비\n",
    "sum([float(row['cty']) for row in mpg]) / len(mpg)"
   ]
  },
  {
   "cell_type": "code",
   "execution_count": 22,
   "id": "78938d2c",
   "metadata": {},
   "outputs": [
    {
     "data": {
      "text/plain": [
       "23.44"
      ]
     },
     "execution_count": 22,
     "metadata": {},
     "output_type": "execute_result"
    }
   ],
   "source": [
    "# 평균 고속도로 연비\n",
    "sum([float(row['hwy']) for row in mpg]) / len(mpg)"
   ]
  },
  {
   "cell_type": "markdown",
   "id": "facdcc23",
   "metadata": {},
   "source": [
    "### Cylinder 수에 따른 시내 연비 계산 \n",
    "\n",
    "- 기통 수가 올라갈 수록 연비가 떨어질 것이라는 상식 확인"
   ]
  },
  {
   "cell_type": "markdown",
   "id": "selected-south",
   "metadata": {},
   "source": [
    "- unique 한 cylinder 수 구하기. Python 의 set 자료형을 이용하여 중복 제거"
   ]
  },
  {
   "cell_type": "code",
   "execution_count": 23,
   "id": "47019153",
   "metadata": {},
   "outputs": [
    {
     "data": {
      "text/plain": [
       "{'4', '5', '6', '8'}"
      ]
     },
     "execution_count": 23,
     "metadata": {},
     "output_type": "execute_result"
    }
   ],
   "source": [
    "cylinders = set(row['cyl'] for row in mpg)\n",
    "cylinders"
   ]
  },
  {
   "cell_type": "markdown",
   "id": "statistical-subsection",
   "metadata": {},
   "source": [
    "- cylinder 수 별로 평균 시내주행 연비 dictionary 작성  "
   ]
  },
  {
   "cell_type": "code",
   "execution_count": 18,
   "id": "a289aa5d",
   "metadata": {},
   "outputs": [
    {
     "data": {
      "text/plain": [
       "[('4', 21.01), ('5', 20.50), ('6', 16.22), ('8', 12.57)]"
      ]
     },
     "execution_count": 18,
     "metadata": {},
     "output_type": "execute_result"
    }
   ],
   "source": [
    "ctyMpgByCyl = {}\n",
    "\n",
    "for cyl in cylinders:\n",
    "    sumMpg = 0\n",
    "    count  = 0\n",
    "    for row in mpg:\n",
    "        if row['cyl'] == cyl:\n",
    "            sumMpg += float(row['cty'])\n",
    "            count += 1\n",
    "    ctyMpgByCyl[cyl] = sumMpg / count\n",
    "    \n",
    "sorted(ctyMpgByCyl.items())"
   ]
  },
  {
   "cell_type": "markdown",
   "id": "83746ff0",
   "metadata": {},
   "source": [
    "### 차량 type 에 따른 고속도로 연비 차이 파악"
   ]
  },
  {
   "cell_type": "markdown",
   "id": "charming-advantage",
   "metadata": {},
   "source": [
    "- unique 한 차량 종류 구하기. Python 의 set 자료형을 이용하여 중복 제거"
   ]
  },
  {
   "cell_type": "code",
   "execution_count": 24,
   "id": "da8d845d",
   "metadata": {},
   "outputs": [
    {
     "data": {
      "text/plain": [
       "{'2seater', 'compact', 'midsize', 'minivan', 'pickup', 'subcompact', 'suv'}"
      ]
     },
     "execution_count": 24,
     "metadata": {},
     "output_type": "execute_result"
    }
   ],
   "source": [
    "car_classes = set([row['class'] for row in mpg])\n",
    "car_classes"
   ]
  },
  {
   "cell_type": "code",
   "execution_count": 26,
   "id": "40eca2c2",
   "metadata": {},
   "outputs": [
    {
     "data": {
      "text/plain": [
       "[('pickup', 16.88),\n",
       " ('suv', 18.13),\n",
       " ('minivan', 22.36),\n",
       " ('2seater', 24.80),\n",
       " ('midsize', 27.29),\n",
       " ('subcompact', 28.14),\n",
       " ('compact', 28.30)]"
      ]
     },
     "execution_count": 26,
     "metadata": {},
     "output_type": "execute_result"
    }
   ],
   "source": [
    "ctyMpgByClass = {}\n",
    "\n",
    "for class_ in car_classes:\n",
    "    sumMpg = 0\n",
    "    count  = 0\n",
    "    for row in mpg:\n",
    "        if row['class'] == class_:\n",
    "            sumMpg += float(row['hwy'])\n",
    "            count += 1\n",
    "    ctyMpgByClass[class_] = sumMpg / count\n",
    "    \n",
    "sorted(ctyMpgByClass.items(), key=lambda kv: kv[1])"
   ]
  },
  {
   "cell_type": "markdown",
   "id": "23cd8045",
   "metadata": {},
   "source": [
    "## Python 으로 Date, Time 표현하기"
   ]
  },
  {
   "cell_type": "code",
   "execution_count": 31,
   "id": "bfcfa5f2",
   "metadata": {},
   "outputs": [
    {
     "data": {
      "text/plain": [
       "1634325245.50"
      ]
     },
     "execution_count": 31,
     "metadata": {},
     "output_type": "execute_result"
    }
   ],
   "source": [
    "import datetime\n",
    "import time \n",
    "\n",
    "time.time()"
   ]
  },
  {
   "cell_type": "markdown",
   "id": "prospective-change",
   "metadata": {},
   "source": [
    "- 현재 날자 + 시간 : datetime"
   ]
  },
  {
   "cell_type": "code",
   "execution_count": 32,
   "id": "c1337390",
   "metadata": {},
   "outputs": [
    {
     "data": {
      "text/plain": [
       "datetime.datetime(2021, 10, 16, 4, 14, 11, 235785)"
      ]
     },
     "execution_count": 32,
     "metadata": {},
     "output_type": "execute_result"
    }
   ],
   "source": [
    "now = datetime.datetime.now()\n",
    "now"
   ]
  },
  {
   "cell_type": "code",
   "execution_count": 29,
   "id": "29c2b110",
   "metadata": {},
   "outputs": [
    {
     "data": {
      "text/plain": [
       "(2021, 10, 16, 4, 13, 35)"
      ]
     },
     "execution_count": 29,
     "metadata": {},
     "output_type": "execute_result"
    }
   ],
   "source": [
    "now.year, now.month, now.day, now.hour, now.minute, now.second"
   ]
  },
  {
   "cell_type": "markdown",
   "id": "da5921e8",
   "metadata": {},
   "source": [
    "### time delta"
   ]
  },
  {
   "cell_type": "markdown",
   "id": "declared-region",
   "metadata": {},
   "source": [
    "- 날자 기간 지정"
   ]
  },
  {
   "cell_type": "code",
   "execution_count": 33,
   "id": "f2d70100",
   "metadata": {},
   "outputs": [
    {
     "data": {
      "text/plain": [
       "datetime.timedelta(days=100)"
      ]
     },
     "execution_count": 33,
     "metadata": {},
     "output_type": "execute_result"
    }
   ],
   "source": [
    "delta = datetime.timedelta(days = 100)\n",
    "delta"
   ]
  },
  {
   "cell_type": "markdown",
   "id": "herbal-sigma",
   "metadata": {},
   "source": [
    "- 기간을 더한 날자 계산 : 오늘 날자 + delta"
   ]
  },
  {
   "cell_type": "code",
   "execution_count": 36,
   "id": "475cad1f",
   "metadata": {},
   "outputs": [
    {
     "data": {
      "text/plain": [
       "datetime.date(2022, 1, 24)"
      ]
     },
     "execution_count": 36,
     "metadata": {},
     "output_type": "execute_result"
    }
   ],
   "source": [
    "today = datetime.date.today()\n",
    "today + delta"
   ]
  },
  {
   "cell_type": "markdown",
   "id": "pregnant-single",
   "metadata": {},
   "source": [
    "# Python 의 Regular Expression(정규식) 문법\n",
    "- Python 은 정규식을 지원하는 re module 을 제공\n",
    "\n",
    "#### 정규식 혹은 정규표현식은 특정한 규칙을 가진 문자열의 집단을 표현하는 방식이다.\n",
    "\n",
    "- 특정한 규칙을 가진 문자열의 집합을 표현하는 데 사용하는 형식 언어\n",
    "\n",
    "## 정규식의 기본 pattern \n",
    "\n",
    "- 패턴(pattern) - 특정 목적을 위해 필요한 문자열 집합을 지정하기 위해 쓰이는 식\n",
    "\n",
    "### meta 문자\n",
    "\n",
    "- meta 문자는 특수한 의미를 가지므로 위와 같이 자기 자체로 match 시키지 않는다.   \n",
    "       . ^ $ * + ? { } [ ] \\ | ( )\n",
    "       \n",
    "       \n",
    "- special character 는 ``\\``를 앞에 두면 된다. $\\text{ex) \\., \\\\\\, \\@, etc}$\n",
    "\n",
    "### single character match\n",
    "\n",
    "- ``a-z, A-Z, 0-9`` $\\leftarrow$ 영문 대/소문자, 숫자는 자기 자체로 match 시킨다.\n",
    "\n",
    "        ex) re.search(r'12g', 'p12g')  --> match='12g'\n",
    "\n",
    "- ``.`` (period) 는 아무 문자(any character) 와도 match. (단, \\n (new line) 제외)  \n",
    "\n",
    "\n",
    "- ``\\w`` 는 word character (a-z, A-Z, 0-9) 와 match. (single character)  \n",
    "\n",
    "- ``\\W`` - NOT ``\\w``\n",
    "\n",
    "\n",
    "- ``\\b`` 는 word (``\\w``) 와 non-word (``\\W``) 의 boundary (position)\n",
    "\n",
    "\n",
    "- ``\\s`` 는 white space (space, new line, return, tab) 와 match. (single white space)\n",
    "- ``\\S`` 는 non-white space \n",
    "\n",
    "\n",
    "- ``\\d`` 는 decimal digit (0-9) 와 match.\n",
    "- ``\\D`` - NOT ``\\d``\n",
    "\n",
    "### quantifier (나타나는 횟수)\n",
    "\n",
    "- ``\\*`` : 바로 앞 문자가 0 회 이상 나타남  \n",
    "\n",
    "- ``\\+`` : 바로 앞 문자가 1 회 이상 나타남  \n",
    "\n",
    "- ``\\?`` : 바로 앞 문자가 0 회 혹은 1 회 나타남 (optional)\n",
    "\n",
    "\n",
    "### position\n",
    "\n",
    "\n",
    "- ``^`` : string 의 처음을 의미, \n",
    "\n",
    "- ``$`` : string 의 끝을 의미한다.\n",
    "\n",
    "- \\[ \\] 내의 ``^`` 는 NOT 의미, ex) [^A-Z] : A-Z 을 제외한 문자\n",
    "\n",
    "\n",
    "### grouping\n",
    "- `( )`"
   ]
  },
  {
   "cell_type": "markdown",
   "id": "victorian-disorder",
   "metadata": {},
   "source": [
    "## 사용 method\n",
    "\n",
    "- re.search(pattern, string) :\tstring에서 pattern과 매치하는 텍스트를 탐색한다 (처음 한개 매치)\n",
    "\n",
    "\n",
    "- re.findall( ) : string 에서 pattern 과 match 되는 것을 전부 list 로 반환\n",
    "\n",
    "\n",
    "- re.sub(pattern, repl, string) : string에서 pattern과 매치하는 텍스트를 repl로 치환한다  "
   ]
  },
  {
   "cell_type": "code",
   "execution_count": 65,
   "id": "recovered-ordinary",
   "metadata": {},
   "outputs": [
    {
     "data": {
      "text/plain": [
       "<re.Match object; span=(11, 19), match='word:cat'>"
      ]
     },
     "execution_count": 65,
     "metadata": {},
     "output_type": "execute_result"
    }
   ],
   "source": [
    "import re\n",
    "\n",
    "str = 'an example word:cat!!'       \n",
    "\n",
    "# word:xxx 의 pattern 탐색\n",
    "match = re.search('word:\\w\\w\\w', str)     \n",
    "match"
   ]
  },
  {
   "cell_type": "code",
   "execution_count": 66,
   "id": "married-princess",
   "metadata": {},
   "outputs": [
    {
     "name": "stdout",
     "output_type": "stream",
     "text": [
      "found -  word:cat\n"
     ]
    }
   ],
   "source": [
    "if match:\n",
    "    print('found - ', match.group())\n",
    "else:\n",
    "    print('Not found')"
   ]
  },
  {
   "cell_type": "code",
   "execution_count": 67,
   "id": "dated-portsmouth",
   "metadata": {},
   "outputs": [
    {
     "data": {
      "text/plain": [
       "'iii'"
      ]
     },
     "execution_count": 67,
     "metadata": {},
     "output_type": "execute_result"
    }
   ],
   "source": [
    "match = re.search('iii', 'piiig')\n",
    "\n",
    "match.group()"
   ]
  },
  {
   "cell_type": "code",
   "execution_count": 68,
   "id": "academic-matthew",
   "metadata": {},
   "outputs": [
    {
     "data": {
      "text/plain": [
       "NoneType"
      ]
     },
     "execution_count": 68,
     "metadata": {},
     "output_type": "execute_result"
    }
   ],
   "source": [
    "match = re.search('igs', 'piiig')\n",
    "\n",
    "type(match)"
   ]
  },
  {
   "cell_type": "code",
   "execution_count": 69,
   "id": "polar-choice",
   "metadata": {},
   "outputs": [
    {
     "data": {
      "text/plain": [
       "'iig'"
      ]
     },
     "execution_count": 69,
     "metadata": {},
     "output_type": "execute_result"
    }
   ],
   "source": [
    "match = re.search('..g', 'piiig')\n",
    "\n",
    "match.group()"
   ]
  },
  {
   "cell_type": "code",
   "execution_count": 70,
   "id": "canadian-waterproof",
   "metadata": {},
   "outputs": [
    {
     "data": {
      "text/plain": [
       "'123'"
      ]
     },
     "execution_count": 70,
     "metadata": {},
     "output_type": "execute_result"
    }
   ],
   "source": [
    "match = re.search('\\d\\d\\d', 'p123g')\n",
    "\n",
    "match.group()"
   ]
  },
  {
   "cell_type": "code",
   "execution_count": 71,
   "id": "automatic-interest",
   "metadata": {},
   "outputs": [
    {
     "data": {
      "text/plain": [
       "'abc'"
      ]
     },
     "execution_count": 71,
     "metadata": {},
     "output_type": "execute_result"
    }
   ],
   "source": [
    "match = re.search('\\w\\w\\w', '@@abcd!!')        \n",
    "match.group()"
   ]
  },
  {
   "cell_type": "code",
   "execution_count": 72,
   "id": "driving-crisis",
   "metadata": {},
   "outputs": [
    {
     "ename": "AttributeError",
     "evalue": "'NoneType' object has no attribute 'group'",
     "output_type": "error",
     "traceback": [
      "\u001b[0;31m---------------------------------------------------------------------------\u001b[0m",
      "\u001b[0;31mAttributeError\u001b[0m                            Traceback (most recent call last)",
      "\u001b[0;32m<ipython-input-72-de77ac03bbe5>\u001b[0m in \u001b[0;36m<module>\u001b[0;34m\u001b[0m\n\u001b[1;32m      1\u001b[0m \u001b[0mmatch\u001b[0m \u001b[0;34m=\u001b[0m \u001b[0mre\u001b[0m\u001b[0;34m.\u001b[0m\u001b[0msearch\u001b[0m\u001b[0;34m(\u001b[0m\u001b[0;34m'^bo'\u001b[0m\u001b[0;34m,\u001b[0m \u001b[0;34m'rebok'\u001b[0m\u001b[0;34m)\u001b[0m\u001b[0;34m\u001b[0m\u001b[0;34m\u001b[0m\u001b[0m\n\u001b[0;32m----> 2\u001b[0;31m \u001b[0mmatch\u001b[0m\u001b[0;34m.\u001b[0m\u001b[0mgroup\u001b[0m\u001b[0;34m(\u001b[0m\u001b[0;34m)\u001b[0m\u001b[0;34m\u001b[0m\u001b[0;34m\u001b[0m\u001b[0m\n\u001b[0m",
      "\u001b[0;31mAttributeError\u001b[0m: 'NoneType' object has no attribute 'group'"
     ]
    }
   ],
   "source": [
    "match = re.search('^bo', 'rebok')\n",
    "match.group()"
   ]
  },
  {
   "cell_type": "code",
   "execution_count": 73,
   "id": "offensive-australian",
   "metadata": {},
   "outputs": [
    {
     "data": {
      "text/plain": [
       "'k'"
      ]
     },
     "execution_count": 73,
     "metadata": {},
     "output_type": "execute_result"
    }
   ],
   "source": [
    "match = re.search('k$', 'book')\n",
    "\n",
    "match.group()"
   ]
  },
  {
   "cell_type": "markdown",
   "id": "abstract-hacker",
   "metadata": {},
   "source": [
    "### match 되는 pattern 의 반복 (Repetition)\n",
    "\n",
    "- \\+ $\\rightarrow$ 1개 혹은 그 이상의 해당 pattern 이 왼쪽에 있음\n",
    "\n",
    "\n",
    "- \\* $\\rightarrow$ 0 혹은 그 이상의 해당 pattern 이 왼쪽에 있음\n",
    "\n",
    "\n",
    "- \\? $\\rightarrow$ 0 혹은 1 개의 해당 pattern 이 왼쪽에 있음"
   ]
  },
  {
   "cell_type": "code",
   "execution_count": 74,
   "id": "industrial-submission",
   "metadata": {},
   "outputs": [
    {
     "data": {
      "text/plain": [
       "'p'"
      ]
     },
     "execution_count": 74,
     "metadata": {},
     "output_type": "execute_result"
    }
   ],
   "source": [
    "import re\n",
    "\n",
    "match = re.search('pi*', 'pg')    \n",
    "\n",
    "match.group()"
   ]
  },
  {
   "cell_type": "code",
   "execution_count": 75,
   "id": "central-shopping",
   "metadata": {},
   "outputs": [
    {
     "data": {
      "text/plain": [
       "'ii'"
      ]
     },
     "execution_count": 75,
     "metadata": {},
     "output_type": "execute_result"
    }
   ],
   "source": [
    "match = re.search('i+', 'piigiiig')\n",
    "\n",
    "match.group()"
   ]
  },
  {
   "cell_type": "markdown",
   "id": "naked-damages",
   "metadata": {},
   "source": [
    "- ``숫자 1 + white space 0 개 이상 + 숫자 1 + white space 0개 이상 + 숫자 1`` 의 pattern"
   ]
  },
  {
   "cell_type": "code",
   "execution_count": 76,
   "id": "about-bahamas",
   "metadata": {},
   "outputs": [
    {
     "data": {
      "text/plain": [
       "'1 2    3'"
      ]
     },
     "execution_count": 76,
     "metadata": {},
     "output_type": "execute_result"
    }
   ],
   "source": [
    "pattern = '\\d\\s*\\d\\s*\\d'\n",
    "\n",
    "match = re.search(pattern, 'xx1 2    3xx')   \n",
    "\n",
    "match.group()"
   ]
  },
  {
   "cell_type": "code",
   "execution_count": 77,
   "id": "geographic-cassette",
   "metadata": {},
   "outputs": [
    {
     "data": {
      "text/plain": [
       "'12   3'"
      ]
     },
     "execution_count": 77,
     "metadata": {},
     "output_type": "execute_result"
    }
   ],
   "source": [
    "match = re.search(pattern, 'xx12   3xx')    \n",
    "match.group()"
   ]
  },
  {
   "cell_type": "markdown",
   "id": "planned-heritage",
   "metadata": {},
   "source": [
    "### 대괄호 ([  ])\n",
    "\n",
    "- character set 을 표시한다. 예를 들어 ``[abc]`` 는 a, b, c 와 match 된다. 단, ``[ ]`` 내의 ``.`` 는 메타 문자가 아니라 실제 ``.`` 표시이다.   \n",
    "\n",
    "\n",
    "- ``[]`` 는 character set 중의 한 개 글자를 의미 \n",
    "\n",
    "    ```[0-9]``` : ``0~9`` 중 single digit  \n",
    "    ```[0-9]+``` : ``0~9`` 중 한개 이상의 digit"
   ]
  },
  {
   "cell_type": "code",
   "execution_count": 78,
   "id": "virtual-discrimination",
   "metadata": {},
   "outputs": [
    {
     "data": {
      "text/plain": [
       "'young-jea.oh@citi.com'"
      ]
     },
     "execution_count": 78,
     "metadata": {},
     "output_type": "execute_result"
    }
   ],
   "source": [
    "str = 'Please send me email to young-jea.oh@citi.com \\\n",
    "        with your return address'\n",
    "match = re.search('[\\w.-]+@[\\w.-]+', str)       #영수자로 시작하는 any 문자열 (-포함)\n",
    "\n",
    "match.group()"
   ]
  },
  {
   "cell_type": "markdown",
   "id": "electronic-bacteria",
   "metadata": {},
   "source": [
    "### Group 구분\n",
    "\n",
    "matching text 를 여러 부분으로 구분할 때 사용"
   ]
  },
  {
   "cell_type": "code",
   "execution_count": 79,
   "id": "eight-setting",
   "metadata": {},
   "outputs": [],
   "source": [
    "match = re.search('([\\w.-]+)@([\\w.-]+)', str)"
   ]
  },
  {
   "cell_type": "code",
   "execution_count": 80,
   "id": "otherwise-touch",
   "metadata": {},
   "outputs": [
    {
     "name": "stdout",
     "output_type": "stream",
     "text": [
      "young-jea.oh@citi.com\n",
      "young-jea.oh\n",
      "citi.com\n"
     ]
    }
   ],
   "source": [
    "print(match.group())\n",
    "print(match.group(1))\n",
    "print(match.group(2))"
   ]
  },
  {
   "cell_type": "markdown",
   "id": "split-posting",
   "metadata": {},
   "source": [
    "## 한글 처리"
   ]
  },
  {
   "cell_type": "code",
   "execution_count": 81,
   "id": "wound-arcade",
   "metadata": {},
   "outputs": [
    {
     "data": {
      "text/plain": [
       "['한글', '의', '범위는', '가', '힣까지', '입니다', 'ㅏ', 'ㅣ', 'ㄱ', 'ㅎ']"
      ]
     },
     "execution_count": 81,
     "metadata": {},
     "output_type": "execute_result"
    }
   ],
   "source": [
    "match = re.findall('[ㄱ-ㅎㅏ-ㅣ가-힣]+',\n",
    "                \"한글 regex 의 범위는 가-힣까지 입니다. From ㅏ TO ㅣ AND ㄱ ~ ㅎ\")\n",
    "match"
   ]
  },
  {
   "cell_type": "markdown",
   "id": "hungarian-johns",
   "metadata": {},
   "source": [
    "### 연습 문제\n",
    "\n",
    "- 문서 내용 cleansing"
   ]
  },
  {
   "cell_type": "code",
   "execution_count": 82,
   "id": "veterinary-baseball",
   "metadata": {},
   "outputs": [
    {
     "data": {
      "text/plain": [
       "\"Alice's Adventures in Wonderland (commonly shortened to Alice in Wonderland) is an 1865 novel written by English author Charles Lutwidge Dodgson under the pseudonym Lewis Carroll.[1] It tells of a young girl named Alice falling through a rabbit hole into a fantasy world populated by peculiar, anthropomorphic creatures. The tale plays with logic, giving the story lasting popularity with adults as well as with children.[2] It is considered to be one of the best examples of the literary nonsense genre.[2][3] Its narrative course, structure, characters, and imagery have been enormously influential[3] in both popular culture and literature, especially in the fantasy genre.\""
      ]
     },
     "execution_count": 82,
     "metadata": {},
     "output_type": "execute_result"
    }
   ],
   "source": [
    "f = open('data/AliceWonderLand.txt', 'r')\n",
    "\n",
    "text = f.read()\n",
    "text"
   ]
  },
  {
   "cell_type": "code",
   "execution_count": 83,
   "id": "acting-banks",
   "metadata": {},
   "outputs": [
    {
     "data": {
      "text/plain": [
       "\"Alice's Adventures in Wonderland (commonly shortened to Alice in Wonderland) is an 1865 novel written by English author Charles Lutwidge Dodgson under the pseudonym Lewis Carroll. It tells of a young girl named Alice falling through a rabbit hole into a fantasy world populated by peculiar, anthropomorphic creatures. The tale plays with logic, giving the story lasting popularity with adults as well as with children. It is considered to be one of the best examples of the literary nonsense genre. Its narrative course, structure, characters, and imagery have been enormously influential in both popular culture and literature, especially in the fantasy genre.\""
      ]
     },
     "execution_count": 83,
     "metadata": {},
     "output_type": "execute_result"
    }
   ],
   "source": [
    "text1 = re.sub('\\[\\d\\]', '', text)\n",
    "text1"
   ]
  },
  {
   "cell_type": "code",
   "execution_count": 84,
   "id": "eight-trading",
   "metadata": {},
   "outputs": [
    {
     "data": {
      "text/plain": [
       "'Alices Adventures in Wonderland commonly shortened to Alice in Wonderland is an 1865 novel written by English author Charles Lutwidge Dodgson under the pseudonym Lewis Carroll It tells of a young girl named Alice falling through a rabbit hole into a fantasy world populated by peculiar anthropomorphic creatures The tale plays with logic giving the story lasting popularity with adults as well as with children It is considered to be one of the best examples of the literary nonsense genre Its narrative course structure characters and imagery have been enormously influential in both popular culture and literature especially in the fantasy genre'"
      ]
     },
     "execution_count": 84,
     "metadata": {},
     "output_type": "execute_result"
    }
   ],
   "source": [
    "text2 = re.sub('[^A-Za-z0-9 ]', '', text1)\n",
    "text2"
   ]
  }
 ],
 "metadata": {
  "kernelspec": {
   "display_name": "Python 3",
   "language": "python",
   "name": "python3"
  },
  "language_info": {
   "codemirror_mode": {
    "name": "ipython",
    "version": 3
   },
   "file_extension": ".py",
   "mimetype": "text/x-python",
   "name": "python",
   "nbconvert_exporter": "python",
   "pygments_lexer": "ipython3",
   "version": "3.7.10"
  }
 },
 "nbformat": 4,
 "nbformat_minor": 5
}
