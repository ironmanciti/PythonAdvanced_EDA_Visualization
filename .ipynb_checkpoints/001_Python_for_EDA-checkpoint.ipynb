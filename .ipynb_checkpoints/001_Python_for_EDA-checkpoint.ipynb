{
 "cells": [
  {
   "cell_type": "markdown",
   "id": "06d1d62d",
   "metadata": {},
   "source": [
    "# 001. Python for EDA"
   ]
  },
  {
   "cell_type": "markdown",
   "id": "35c8175d",
   "metadata": {},
   "source": [
    "# Data Files and Summary Statistics"
   ]
  },
  {
   "cell_type": "code",
   "execution_count": 9,
   "id": "074e5950",
   "metadata": {},
   "outputs": [
    {
     "data": {
      "text/plain": [
       "(234,\n",
       " OrderedDict([('', '1'),\n",
       "              ('manufacturer', 'audi'),\n",
       "              ('model', 'a4'),\n",
       "              ('displ', '1.8'),\n",
       "              ('year', '1999'),\n",
       "              ('cyl', '4'),\n",
       "              ('trans', 'auto(l5)'),\n",
       "              ('drv', 'f'),\n",
       "              ('cty', '18'),\n",
       "              ('hwy', '29'),\n",
       "              ('fl', 'p'),\n",
       "              ('class', 'compact')]))"
      ]
     },
     "execution_count": 9,
     "metadata": {},
     "output_type": "execute_result"
    }
   ],
   "source": [
    "import csv\n",
    "\n",
    "%precision 2\n",
    "\n",
    "with open('data/mpg.csv') as csvfile:\n",
    "    mpg = list(csv.DictReader(csvfile))\n",
    "    \n",
    "len(mpg), mpg[0]"
   ]
  },
  {
   "cell_type": "markdown",
   "id": "e9190634",
   "metadata": {},
   "source": [
    "### column 명"
   ]
  },
  {
   "cell_type": "code",
   "execution_count": 10,
   "id": "39794563",
   "metadata": {},
   "outputs": [
    {
     "data": {
      "text/plain": [
       "odict_keys(['', 'manufacturer', 'model', 'displ', 'year', 'cyl', 'trans', 'drv', 'cty', 'hwy', 'fl', 'class'])"
      ]
     },
     "execution_count": 10,
     "metadata": {},
     "output_type": "execute_result"
    }
   ],
   "source": [
    "mpg[0].keys()"
   ]
  },
  {
   "cell_type": "markdown",
   "id": "41f90973",
   "metadata": {},
   "source": [
    "### 연비 평균값 계산 \n",
    "\n",
    "- 고속도로 연비가 시내 주행 연비보다 높을 것이라는 상식 확인"
   ]
  },
  {
   "cell_type": "code",
   "execution_count": 17,
   "id": "e5158ac3",
   "metadata": {},
   "outputs": [
    {
     "data": {
      "text/plain": [
       "16.86"
      ]
     },
     "execution_count": 17,
     "metadata": {},
     "output_type": "execute_result"
    }
   ],
   "source": [
    "# 시내 주행 연비\n",
    "sum([float(d['cty']) for d in mpg]) / len(mpg)"
   ]
  },
  {
   "cell_type": "code",
   "execution_count": 18,
   "id": "78938d2c",
   "metadata": {},
   "outputs": [
    {
     "data": {
      "text/plain": [
       "23.44"
      ]
     },
     "execution_count": 18,
     "metadata": {},
     "output_type": "execute_result"
    }
   ],
   "source": [
    "# 고속도로 연비\n",
    "sum([float(d['hwy']) for d in mpg]) / len(mpg)"
   ]
  },
  {
   "cell_type": "markdown",
   "id": "facdcc23",
   "metadata": {},
   "source": [
    "### Cylinder 수에 따른 시내 연비 계산 \n",
    "\n",
    "- 기통 수가 올라갈 수록 연비가 떨어질 것이라는 상식 확인"
   ]
  },
  {
   "cell_type": "code",
   "execution_count": 19,
   "id": "47019153",
   "metadata": {},
   "outputs": [
    {
     "data": {
      "text/plain": [
       "{'4', '5', '6', '8'}"
      ]
     },
     "execution_count": 19,
     "metadata": {},
     "output_type": "execute_result"
    }
   ],
   "source": [
    "cylinders = set(d['cyl'] for d in mpg)\n",
    "cylinders"
   ]
  },
  {
   "cell_type": "code",
   "execution_count": 25,
   "id": "a289aa5d",
   "metadata": {},
   "outputs": [
    {
     "data": {
      "text/plain": [
       "[('4', 21.01), ('5', 20.50), ('6', 16.22), ('8', 12.57)]"
      ]
     },
     "execution_count": 25,
     "metadata": {},
     "output_type": "execute_result"
    }
   ],
   "source": [
    "ctyMpgByCyl = {}\n",
    "\n",
    "for cyl in cylinders:\n",
    "    sumMpg = 0\n",
    "    count  = 0\n",
    "    for d in mpg:\n",
    "        if d['cyl'] == cyl:\n",
    "            sumMpg += float(d['cty'])\n",
    "            count += 1\n",
    "    ctyMpgByCyl[cyl] = sumMpg / count\n",
    "    \n",
    "sorted(ctyMpgByCyl.items())"
   ]
  },
  {
   "cell_type": "markdown",
   "id": "83746ff0",
   "metadata": {},
   "source": [
    "### 차량 type 에 따른 고속도로 연비 차이 파악"
   ]
  },
  {
   "cell_type": "code",
   "execution_count": 26,
   "id": "da8d845d",
   "metadata": {},
   "outputs": [
    {
     "data": {
      "text/plain": [
       "{'2seater', 'compact', 'midsize', 'minivan', 'pickup', 'subcompact', 'suv'}"
      ]
     },
     "execution_count": 26,
     "metadata": {},
     "output_type": "execute_result"
    }
   ],
   "source": [
    "car_classes = set([d['class'] for d in mpg])\n",
    "car_classes"
   ]
  },
  {
   "cell_type": "code",
   "execution_count": 32,
   "id": "40eca2c2",
   "metadata": {},
   "outputs": [
    {
     "data": {
      "text/plain": [
       "[('pickup', 16.88),\n",
       " ('suv', 18.13),\n",
       " ('minivan', 22.36),\n",
       " ('2seater', 24.80),\n",
       " ('midsize', 27.29),\n",
       " ('subcompact', 28.14),\n",
       " ('compact', 28.30)]"
      ]
     },
     "execution_count": 32,
     "metadata": {},
     "output_type": "execute_result"
    }
   ],
   "source": [
    "ctyMpgByClass = {}\n",
    "\n",
    "for class_ in car_classes:\n",
    "    sumMpg = 0\n",
    "    count  = 0\n",
    "    for d in mpg:\n",
    "        if d['class'] == class_:\n",
    "            sumMpg += float(d['hwy'])\n",
    "            count += 1\n",
    "    ctyMpgByClass[class_] = sumMpg / count\n",
    "    \n",
    "sorted(ctyMpgByClass.items(), key=lambda kv: kv[1])"
   ]
  },
  {
   "cell_type": "markdown",
   "id": "23cd8045",
   "metadata": {},
   "source": [
    "## Python 으로 Date, Time 표현하기"
   ]
  },
  {
   "cell_type": "code",
   "execution_count": 1,
   "id": "bfcfa5f2",
   "metadata": {},
   "outputs": [
    {
     "data": {
      "text/plain": [
       "1632216237.742402"
      ]
     },
     "execution_count": 1,
     "metadata": {},
     "output_type": "execute_result"
    }
   ],
   "source": [
    "import datetime as dt\n",
    "import time \n",
    "\n",
    "time.time()"
   ]
  },
  {
   "cell_type": "code",
   "execution_count": 2,
   "id": "c1337390",
   "metadata": {},
   "outputs": [
    {
     "data": {
      "text/plain": [
       "datetime.datetime(2021, 9, 21, 18, 24, 5, 223364)"
      ]
     },
     "execution_count": 2,
     "metadata": {},
     "output_type": "execute_result"
    }
   ],
   "source": [
    "now = dt.datetime.now()\n",
    "now"
   ]
  },
  {
   "cell_type": "code",
   "execution_count": 3,
   "id": "29c2b110",
   "metadata": {},
   "outputs": [
    {
     "data": {
      "text/plain": [
       "(2021, 9, 21, 18, 24, 5)"
      ]
     },
     "execution_count": 3,
     "metadata": {},
     "output_type": "execute_result"
    }
   ],
   "source": [
    "now.year, now.month, now.day, now.hour, now.minute, now.second"
   ]
  },
  {
   "cell_type": "markdown",
   "id": "da5921e8",
   "metadata": {},
   "source": [
    "### time delta"
   ]
  },
  {
   "cell_type": "code",
   "execution_count": 4,
   "id": "f2d70100",
   "metadata": {},
   "outputs": [
    {
     "data": {
      "text/plain": [
       "datetime.timedelta(days=100)"
      ]
     },
     "execution_count": 4,
     "metadata": {},
     "output_type": "execute_result"
    }
   ],
   "source": [
    "delta = dt.timedelta(days = 100)\n",
    "delta"
   ]
  },
  {
   "cell_type": "code",
   "execution_count": 5,
   "id": "475cad1f",
   "metadata": {},
   "outputs": [
    {
     "data": {
      "text/plain": [
       "datetime.date(2021, 12, 30)"
      ]
     },
     "execution_count": 5,
     "metadata": {},
     "output_type": "execute_result"
    }
   ],
   "source": [
    "today = dt.date.today()\n",
    "today + delta"
   ]
  }
 ],
 "metadata": {
  "kernelspec": {
   "display_name": "Python 3.7.3 64-bit ('base': conda)",
   "language": "python",
   "name": "python37364bitbaseconda2c9af2855d6145d8a365da9e9ceb6f7a"
  },
  "language_info": {
   "codemirror_mode": {
    "name": "ipython",
    "version": 3
   },
   "file_extension": ".py",
   "mimetype": "text/x-python",
   "name": "python",
   "nbconvert_exporter": "python",
   "pygments_lexer": "ipython3",
   "version": "3.7.3"
  }
 },
 "nbformat": 4,
 "nbformat_minor": 5
}
